{
 "cells": [
  {
   "cell_type": "markdown",
   "metadata": {},
   "source": [
    "[![Open In Colab](https://colab.research.google.com/assets/colab-badge.svg)](https://colab.research.google.com/github/aurelio-labs/semantic-router/blob/main/docs/encoders/mistral-encoder.ipynb) [![Open nbviewer](https://raw.githubusercontent.com/pinecone-io/examples/master/assets/nbviewer-shield.svg)](https://nbviewer.org/github/aurelio-labs/semantic-router/blob/main/docs/encoders/mistral-encoder.ipynb)"
   ]
  },
  {
   "cell_type": "markdown",
   "metadata": {},
   "source": [
    "# Using Mistral Models"
   ]
  },
  {
   "cell_type": "markdown",
   "metadata": {},
   "source": [
    "The Mistral embedding model (mistral-embed) can be used with our MistralEncoder and usage is primarily the same as with other embedding models. The model produces high-quality embeddings for semantic search, classification, and other text similarity tasks."
   ]
  },
  {
   "cell_type": "markdown",
   "metadata": {},
   "source": [
    "## Getting Started"
   ]
  },
  {
   "cell_type": "markdown",
   "metadata": {},
   "source": [
    "We start by installing semantic-router. Support for the new `mistral` encoder was added in `semantic-router==0.1.8`."
   ]
  },
  {
   "cell_type": "code",
   "execution_count": null,
   "metadata": {},
   "outputs": [],
   "source": [
    "!pip install -qU semantic-router==0.1.8"
   ]
  },
  {
   "cell_type": "markdown",
   "metadata": {},
   "source": [
    "We start by defining a dictionary mapping routes to example phrases that should trigger those routes."
   ]
  },
  {
   "cell_type": "code",
   "execution_count": 2,
   "metadata": {},
   "outputs": [],
   "source": [
    "from semantic_router import Route\n",
    "\n",
    "politics = Route(\n",
    "    name=\"politics\",\n",
    "    utterances=[\n",
    "        \"isn't politics the best thing ever\",\n",
    "        \"why don't you tell me about your political opinions\",\n",
    "        \"don't you just love the president\",\n",
    "        \"don't you just hate the president\",\n",
    "        \"they're going to destroy this country!\",\n",
    "        \"they will save the country!\",\n",
    "    ],\n",
    ")"
   ]
  },
  {
   "cell_type": "markdown",
   "metadata": {},
   "source": [
    "Let's define another for good measure:"
   ]
  },
  {
   "cell_type": "code",
   "execution_count": 2,
   "metadata": {},
   "outputs": [],
   "source": [
    "chitchat = Route(\n",
    "    name=\"chitchat\",\n",
    "    utterances=[\n",
    "        \"how's the weather today?\",\n",
    "        \"how are things going?\",\n",
    "        \"lovely weather today\",\n",
    "        \"the weather is horrendous\",\n",
    "        \"let's go to the chippy\",\n",
    "    ],\n",
    ")\n",
    "\n",
    "routes = [politics, chitchat]"
   ]
  },
  {
   "cell_type": "markdown",
   "metadata": {},
   "source": [
    "Now we initialize our embedding model, we will use the `mistral-embed` model."
   ]
  },
  {
   "cell_type": "code",
   "execution_count": 3,
   "metadata": {},
   "outputs": [],
   "source": [
    "import os\n",
    "from getpass import getpass\n",
    "from semantic_router.encoders import MistralEncoder\n",
    "\n",
    "os.environ[\"MISTRAL_API_KEY\"] = os.getenv(\"MISTRAL_API_KEY\") or getpass(\n",
    "    \"Enter Mistral API Key: \"\n",
    ")\n",
    "\n",
    "encoder = MistralEncoder(\n",
    "    name=\"mistral-embed\",\n",
    "    score_threshold=0.4,\n",
    "    mistralai_api_key=os.environ[\"MISTRAL_API_KEY\"],\n",
    ")"
   ]
  },
  {
   "cell_type": "markdown",
   "metadata": {},
   "source": [
    "Now we define the `RouteLayer`. When called, the route layer will consume text (a query) and output the category (`Route`) it belongs to — to initialize a `RouteLayer` we need our `encoder` model and a list of `routes`."
   ]
  },
  {
   "cell_type": "code",
   "execution_count": 4,
   "metadata": {},
   "outputs": [
    {
     "name": "stderr",
     "output_type": "stream",
     "text": [
      "2025-04-07 13:35:18 - semantic_router.utils.logger - WARNING - base.py:442 - _get_index() - No index provided. Using default LocalIndex.\n",
      "2025-04-07 13:35:18 - httpx - INFO - _client.py:1013 - _send_single_request() - HTTP Request: POST https://api.mistral.ai/v1/embeddings \"HTTP/1.1 200 OK\"\n",
      "\u001b[92m13:35:18 - LiteLLM:INFO\u001b[0m: utils.py:1177 - Wrapper: Completed Call, calling success_handler\n",
      "2025-04-07 13:35:18 - LiteLLM - INFO - utils.py:1177 - wrapper() - Wrapper: Completed Call, calling success_handler\n",
      "\u001b[92m13:35:18 - LiteLLM:INFO\u001b[0m: cost_calculator.py:622 - selected model name for cost calculation: mistral/mistral-embed\n",
      "2025-04-07 13:35:18 - LiteLLM - INFO - cost_calculator.py:622 - completion_cost() - selected model name for cost calculation: mistral/mistral-embed\n",
      "\u001b[92m13:35:18 - LiteLLM:INFO\u001b[0m: cost_calculator.py:622 - selected model name for cost calculation: mistral/mistral-embed\n",
      "2025-04-07 13:35:18 - LiteLLM - INFO - cost_calculator.py:622 - completion_cost() - selected model name for cost calculation: mistral/mistral-embed\n",
      "2025-04-07 13:35:18 - httpx - INFO - _client.py:1013 - _send_single_request() - HTTP Request: POST https://api.mistral.ai/v1/embeddings \"HTTP/1.1 200 OK\"\n",
      "\u001b[92m13:35:18 - LiteLLM:INFO\u001b[0m: utils.py:1177 - Wrapper: Completed Call, calling success_handler\n",
      "2025-04-07 13:35:18 - LiteLLM - INFO - utils.py:1177 - wrapper() - Wrapper: Completed Call, calling success_handler\n",
      "\u001b[92m13:35:18 - LiteLLM:INFO\u001b[0m: cost_calculator.py:622 - selected model name for cost calculation: mistral/mistral-embed\n",
      "2025-04-07 13:35:18 - LiteLLM - INFO - cost_calculator.py:622 - completion_cost() - selected model name for cost calculation: mistral/mistral-embed\n",
      "\u001b[92m13:35:18 - LiteLLM:INFO\u001b[0m: cost_calculator.py:622 - selected model name for cost calculation: mistral/mistral-embed\n",
      "2025-04-07 13:35:18 - semantic_router.utils.logger - WARNING - local.py:213 - _write_config() - No config is written for LocalIndex.\n",
      "2025-04-07 13:35:18 - LiteLLM - INFO - cost_calculator.py:622 - completion_cost() - selected model name for cost calculation: mistral/mistral-embed\n"
     ]
    }
   ],
   "source": [
    "from semantic_router.routers import SemanticRouter\n",
    "\n",
    "rl = SemanticRouter(encoder=encoder, routes=routes, auto_sync=\"local\")"
   ]
  },
  {
   "cell_type": "code",
   "execution_count": 5,
   "metadata": {},
   "outputs": [
    {
     "name": "stderr",
     "output_type": "stream",
     "text": [
      "2025-04-07 13:35:19 - httpx - INFO - _client.py:1013 - _send_single_request() - HTTP Request: POST https://api.mistral.ai/v1/embeddings \"HTTP/1.1 200 OK\"\n",
      "\u001b[92m13:35:19 - LiteLLM:INFO\u001b[0m: utils.py:1177 - Wrapper: Completed Call, calling success_handler\n",
      "2025-04-07 13:35:19 - LiteLLM - INFO - utils.py:1177 - wrapper() - Wrapper: Completed Call, calling success_handler\n",
      "\u001b[92m13:35:19 - LiteLLM:INFO\u001b[0m: cost_calculator.py:622 - selected model name for cost calculation: mistral/mistral-embed\n",
      "2025-04-07 13:35:19 - LiteLLM - INFO - cost_calculator.py:622 - completion_cost() - selected model name for cost calculation: mistral/mistral-embed\n"
     ]
    },
    {
     "name": "stderr",
     "output_type": "stream",
     "text": [
      "\u001b[92m13:35:19 - LiteLLM:INFO\u001b[0m: cost_calculator.py:622 - selected model name for cost calculation: mistral/mistral-embed\n",
      "2025-04-07 13:35:19 - LiteLLM - INFO - cost_calculator.py:622 - completion_cost() - selected model name for cost calculation: mistral/mistral-embed\n",
      "\u001b[92m13:35:20 - LiteLLM:INFO\u001b[0m: cost_calculator.py:622 - selected model name for cost calculation: mistral/mistral-embed\n",
      "2025-04-07 13:35:20 - LiteLLM - INFO - cost_calculator.py:622 - completion_cost() - selected model name for cost calculation: mistral/mistral-embed\n",
      "\u001b[92m13:35:21 - LiteLLM:INFO\u001b[0m: cost_calculator.py:622 - selected model name for cost calculation: mistral/mistral-embed\n",
      "2025-04-07 13:35:21 - LiteLLM - INFO - cost_calculator.py:622 - completion_cost() - selected model name for cost calculation: mistral/mistral-embed\n",
      "\u001b[92m13:35:21 - LiteLLM:INFO\u001b[0m: cost_calculator.py:622 - selected model name for cost calculation: mistral/mistral-embed\n",
      "2025-04-07 13:35:21 - LiteLLM - INFO - cost_calculator.py:622 - completion_cost() - selected model name for cost calculation: mistral/mistral-embed\n",
      "\u001b[92m13:35:29 - LiteLLM:INFO\u001b[0m: cost_calculator.py:622 - selected model name for cost calculation: mistral/mistral-embed\n",
      "2025-04-07 13:35:29 - LiteLLM - INFO - cost_calculator.py:622 - completion_cost() - selected model name for cost calculation: mistral/mistral-embed\n"
     ]
    }
   ],
   "source": [
    "result = encoder(\n",
    "    [\n",
    "        \"I'm interested in learning about llama 2\",\n",
    "        \"Don't you love politics?\",\n",
    "        \"How's the weather today?\",\n",
    "        \"I love the politics\",\n",
    "    ]\n",
    ")"
   ]
  },
  {
   "cell_type": "markdown",
   "metadata": {},
   "source": [
    "We can check the dimensionality of our vectors by looking at the `index` attribute of the `RouteLayer`."
   ]
  },
  {
   "cell_type": "code",
   "execution_count": 11,
   "metadata": {},
   "outputs": [
    {
     "data": {
      "text/plain": [
       "1024"
      ]
     },
     "execution_count": 11,
     "metadata": {},
     "output_type": "execute_result"
    }
   ],
   "source": [
    "rl.index.dimensions"
   ]
  },
  {
   "cell_type": "markdown",
   "metadata": {},
   "source": [
    "We do have 256-dimensional vectors. Now let's test them:"
   ]
  },
  {
   "cell_type": "code",
   "execution_count": 12,
   "metadata": {},
   "outputs": [
    {
     "name": "stderr",
     "output_type": "stream",
     "text": [
      "2025-04-07 13:35:20 - httpx - INFO - _client.py:1013 - _send_single_request() - HTTP Request: POST https://api.mistral.ai/v1/embeddings \"HTTP/1.1 200 OK\"\n",
      "\u001b[92m13:35:20 - LiteLLM:INFO\u001b[0m: utils.py:1177 - Wrapper: Completed Call, calling success_handler\n",
      "2025-04-07 13:35:20 - LiteLLM - INFO - utils.py:1177 - wrapper() - Wrapper: Completed Call, calling success_handler\n",
      "\u001b[92m13:35:20 - LiteLLM:INFO\u001b[0m: cost_calculator.py:622 - selected model name for cost calculation: mistral/mistral-embed\n",
      "2025-04-07 13:35:20 - LiteLLM - INFO - cost_calculator.py:622 - completion_cost() - selected model name for cost calculation: mistral/mistral-embed\n"
     ]
    },
    {
     "data": {
      "text/plain": [
       "RouteChoice(name='politics', function_call=None, similarity_score=None)"
      ]
     },
     "execution_count": 12,
     "metadata": {},
     "output_type": "execute_result"
    }
   ],
   "source": [
    "rl(\"don't you love politics?\")"
   ]
  },
  {
   "cell_type": "code",
   "execution_count": 13,
   "metadata": {},
   "outputs": [
    {
     "name": "stderr",
     "output_type": "stream",
     "text": [
      "2025-04-07 13:35:21 - httpx - INFO - _client.py:1013 - _send_single_request() - HTTP Request: POST https://api.mistral.ai/v1/embeddings \"HTTP/1.1 200 OK\"\n",
      "\u001b[92m13:35:21 - LiteLLM:INFO\u001b[0m: utils.py:1177 - Wrapper: Completed Call, calling success_handler\n",
      "2025-04-07 13:35:21 - LiteLLM - INFO - utils.py:1177 - wrapper() - Wrapper: Completed Call, calling success_handler\n",
      "\u001b[92m13:35:21 - LiteLLM:INFO\u001b[0m: cost_calculator.py:622 - selected model name for cost calculation: mistral/mistral-embed\n",
      "2025-04-07 13:35:21 - LiteLLM - INFO - cost_calculator.py:622 - completion_cost() - selected model name for cost calculation: mistral/mistral-embed\n"
     ]
    },
    {
     "data": {
      "text/plain": [
       "RouteChoice(name='chitchat', function_call=None, similarity_score=None)"
      ]
     },
     "execution_count": 13,
     "metadata": {},
     "output_type": "execute_result"
    }
   ],
   "source": [
    "rl(\"how's the weather today?\")"
   ]
  },
  {
   "cell_type": "markdown",
   "metadata": {},
   "source": [
    "Both are classified accurately, what if we send a query that is unrelated to our existing `Route` objects?"
   ]
  },
  {
   "cell_type": "code",
   "execution_count": 15,
   "metadata": {},
   "outputs": [
    {
     "name": "stderr",
     "output_type": "stream",
     "text": [
      "2025-04-07 13:35:29 - httpx - INFO - _client.py:1013 - _send_single_request() - HTTP Request: POST https://api.mistral.ai/v1/embeddings \"HTTP/1.1 200 OK\"\n",
      "\u001b[92m13:35:29 - LiteLLM:INFO\u001b[0m: utils.py:1177 - Wrapper: Completed Call, calling success_handler\n",
      "2025-04-07 13:35:29 - LiteLLM - INFO - utils.py:1177 - wrapper() - Wrapper: Completed Call, calling success_handler\n",
      "\u001b[92m13:35:29 - LiteLLM:INFO\u001b[0m: cost_calculator.py:622 - selected model name for cost calculation: mistral/mistral-embed\n",
      "2025-04-07 13:35:29 - LiteLLM - INFO - cost_calculator.py:622 - completion_cost() - selected model name for cost calculation: mistral/mistral-embed\n"
     ]
    },
    {
     "data": {
      "text/plain": [
       "RouteChoice(name='politics', function_call=None, similarity_score=None)"
      ]
     },
     "execution_count": 15,
     "metadata": {},
     "output_type": "execute_result"
    }
   ],
   "source": [
    "rl(\"I'm interested in learning about llama 2\")"
   ]
  },
  {
   "cell_type": "markdown",
   "metadata": {},
   "source": [
    "In this case, we return `None` because no matches were identified. We always recommend optimizing your `RouteLayer` for optimal performance, you can see how in [this notebook](https://github.com/aurelio-labs/semantic-router/blob/main/docs/06-threshold-optimization.ipynb)."
   ]
  },
  {
   "cell_type": "markdown",
   "metadata": {},
   "source": [
    "---"
   ]
  }
 ],
 "metadata": {
  "kernelspec": {
   "display_name": ".venv",
   "language": "python",
   "name": "python3"
  },
  "language_info": {
   "codemirror_mode": {
    "name": "ipython",
    "version": 3
   },
   "file_extension": ".py",
   "mimetype": "text/x-python",
   "name": "python",
   "nbconvert_exporter": "python",
   "pygments_lexer": "ipython3",
   "version": "3.13.2"
  }
 },
 "nbformat": 4,
 "nbformat_minor": 2
}
