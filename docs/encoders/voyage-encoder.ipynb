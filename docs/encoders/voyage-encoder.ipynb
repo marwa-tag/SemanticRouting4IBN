{
 "cells": [
  {
   "cell_type": "markdown",
   "metadata": {},
   "source": [
    "[![Open In Colab](https://colab.research.google.com/assets/colab-badge.svg)](https://colab.research.google.com/github/aurelio-labs/semantic-router/blob/main/docs/encoders/voyage-encoder.ipynb) [![Open nbviewer](https://raw.githubusercontent.com/pinecone-io/examples/master/assets/nbviewer-shield.svg)](https://nbviewer.org/github/aurelio-labs/semantic-router/blob/main/docs/encoders/voyage-encoder.ipynb)"
   ]
  },
  {
   "cell_type": "markdown",
   "metadata": {},
   "source": [
    "# Using VoyageAI Models"
   ]
  },
  {
   "cell_type": "markdown",
   "metadata": {},
   "source": [
    "The Voyage embedding model (voyage-v3) can be used with our LiteLLMEncoder and usage is primarily the same as with other embedding models. The model produces high-quality embeddings for semantic search, classification, and other text similarity tasks."
   ]
  },
  {
   "cell_type": "markdown",
   "metadata": {},
   "source": [
    "## Getting Started"
   ]
  },
  {
   "cell_type": "markdown",
   "metadata": {},
   "source": [
    "We start by installing semantic-router. Support for the new `voyage` encoder was added in `semantic-router==0.1.8`."
   ]
  },
  {
   "cell_type": "code",
   "execution_count": null,
   "metadata": {},
   "outputs": [],
   "source": [
    "!pip install -qU semantic-router==0.1.8"
   ]
  },
  {
   "cell_type": "markdown",
   "metadata": {},
   "source": [
    "We start by defining a dictionary mapping routes to example phrases that should trigger those routes."
   ]
  },
  {
   "cell_type": "code",
   "execution_count": 1,
   "metadata": {},
   "outputs": [
    {
     "name": "stderr",
     "output_type": "stream",
     "text": [
      "/Users/joshuabriggs/Documents/GitHub/semantic-router/.venv/lib/python3.13/site-packages/tqdm/auto.py:21: TqdmWarning: IProgress not found. Please update jupyter and ipywidgets. See https://ipywidgets.readthedocs.io/en/stable/user_install.html\n",
      "  from .autonotebook import tqdm as notebook_tqdm\n",
      "2025-04-08 09:50:32 - httpx - INFO - _client.py:1013 - _send_single_request() - HTTP Request: GET https://raw.githubusercontent.com/BerriAI/litellm/main/model_prices_and_context_window.json \"HTTP/1.1 200 OK\"\n"
     ]
    }
   ],
   "source": [
    "from semantic_router import Route\n",
    "\n",
    "politics = Route(\n",
    "    name=\"politics\",\n",
    "    utterances=[\n",
    "        \"isn't politics the best thing ever\",\n",
    "        \"why don't you tell me about your political opinions\",\n",
    "        \"don't you just love the president\",\n",
    "        \"don't you just hate the president\",\n",
    "        \"they're going to destroy this country!\",\n",
    "        \"they will save the country!\",\n",
    "    ],\n",
    ")"
   ]
  },
  {
   "cell_type": "markdown",
   "metadata": {},
   "source": [
    "Let's define another for good measure:"
   ]
  },
  {
   "cell_type": "code",
   "execution_count": 2,
   "metadata": {},
   "outputs": [],
   "source": [
    "chitchat = Route(\n",
    "    name=\"chitchat\",\n",
    "    utterances=[\n",
    "        \"how's the weather today?\",\n",
    "        \"how are things going?\",\n",
    "        \"lovely weather today\",\n",
    "        \"the weather is horrendous\",\n",
    "        \"let's go to the chippy\",\n",
    "    ],\n",
    ")\n",
    "\n",
    "routes = [politics, chitchat]"
   ]
  },
  {
   "cell_type": "markdown",
   "metadata": {},
   "source": [
    "Now we initialize our embedding model, we will use the `voyage-3` model."
   ]
  },
  {
   "cell_type": "code",
   "execution_count": 3,
   "metadata": {},
   "outputs": [],
   "source": [
    "import os\n",
    "from getpass import getpass\n",
    "from semantic_router.encoders import VoyageEncoder\n",
    "\n",
    "os.environ[\"VOYAGE_API_KEY\"] = os.getenv(\"VOYAGE_API_KEY\") or getpass(\n",
    "    \"Enter Voyage API Key: \"\n",
    ")\n",
    "\n",
    "encoder = VoyageEncoder(\n",
    "    name=\"voyage-3\",\n",
    "    score_threshold=0.4,\n",
    "    api_key=os.environ[\"VOYAGE_API_KEY\"],\n",
    ")"
   ]
  },
  {
   "cell_type": "markdown",
   "metadata": {},
   "source": [
    "Now we define the `RouteLayer`. When called, the route layer will consume text (a query) and output the category (`Route`) it belongs to — to initialize a `RouteLayer` we need our `encoder` model and a list of `routes`."
   ]
  },
  {
   "cell_type": "code",
   "execution_count": 4,
   "metadata": {},
   "outputs": [
    {
     "name": "stderr",
     "output_type": "stream",
     "text": [
      "2025-04-08 09:50:58 - semantic_router.utils.logger - WARNING - base.py:442 - _get_index() - No index provided. Using default LocalIndex.\n",
      "2025-04-08 09:50:58 - httpx - INFO - _client.py:1013 - _send_single_request() - HTTP Request: POST https://api.voyageai.com/v1/embeddings \"HTTP/1.1 200 OK\"\n",
      "\u001b[92m09:50:58 - LiteLLM:INFO\u001b[0m: utils.py:1177 - Wrapper: Completed Call, calling success_handler\n",
      "2025-04-08 09:50:58 - LiteLLM - INFO - utils.py:1177 - wrapper() - Wrapper: Completed Call, calling success_handler\n",
      "\u001b[92m09:50:58 - LiteLLM:INFO\u001b[0m: cost_calculator.py:622 - selected model name for cost calculation: voyage/voyage-3\n",
      "2025-04-08 09:50:58 - LiteLLM - INFO - cost_calculator.py:622 - completion_cost() - selected model name for cost calculation: voyage/voyage-3\n",
      "\u001b[92m09:50:58 - LiteLLM:INFO\u001b[0m: cost_calculator.py:622 - selected model name for cost calculation: voyage/voyage-3\n",
      "2025-04-08 09:50:58 - LiteLLM - INFO - cost_calculator.py:622 - completion_cost() - selected model name for cost calculation: voyage/voyage-3\n",
      "2025-04-08 09:50:58 - httpx - INFO - _client.py:1013 - _send_single_request() - HTTP Request: POST https://api.voyageai.com/v1/embeddings \"HTTP/1.1 200 OK\"\n",
      "\u001b[92m09:50:59 - LiteLLM:INFO\u001b[0m: utils.py:1177 - Wrapper: Completed Call, calling success_handler\n",
      "2025-04-08 09:50:59 - LiteLLM - INFO - utils.py:1177 - wrapper() - Wrapper: Completed Call, calling success_handler\n",
      "\u001b[92m09:50:59 - LiteLLM:INFO\u001b[0m: cost_calculator.py:622 - selected model name for cost calculation: voyage/voyage-3\n",
      "2025-04-08 09:50:59 - LiteLLM - INFO - cost_calculator.py:622 - completion_cost() - selected model name for cost calculation: voyage/voyage-3\n",
      "\u001b[92m09:50:59 - LiteLLM:INFO\u001b[0m: cost_calculator.py:622 - selected model name for cost calculation: voyage/voyage-3\n",
      "2025-04-08 09:50:59 - semantic_router.utils.logger - WARNING - local.py:213 - _write_config() - No config is written for LocalIndex.\n",
      "2025-04-08 09:50:59 - LiteLLM - INFO - cost_calculator.py:622 - completion_cost() - selected model name for cost calculation: voyage/voyage-3\n"
     ]
    }
   ],
   "source": [
    "from semantic_router.routers import SemanticRouter\n",
    "\n",
    "rl = SemanticRouter(encoder=encoder, routes=routes, auto_sync=\"local\")"
   ]
  },
  {
   "cell_type": "code",
   "execution_count": 5,
   "metadata": {},
   "outputs": [
    {
     "name": "stderr",
     "output_type": "stream",
     "text": [
      "2025-04-08 09:51:18 - httpx - INFO - _client.py:1013 - _send_single_request() - HTTP Request: POST https://api.voyageai.com/v1/embeddings \"HTTP/1.1 200 OK\"\n",
      "\u001b[92m09:51:18 - LiteLLM:INFO\u001b[0m: utils.py:1177 - Wrapper: Completed Call, calling success_handler\n",
      "2025-04-08 09:51:18 - LiteLLM - INFO - utils.py:1177 - wrapper() - Wrapper: Completed Call, calling success_handler\n",
      "\u001b[92m09:51:18 - LiteLLM:INFO\u001b[0m: cost_calculator.py:622 - selected model name for cost calculation: voyage/voyage-3\n",
      "2025-04-08 09:51:18 - LiteLLM - INFO - cost_calculator.py:622 - completion_cost() - selected model name for cost calculation: voyage/voyage-3\n"
     ]
    },
    {
     "name": "stderr",
     "output_type": "stream",
     "text": [
      "\u001b[92m09:51:18 - LiteLLM:INFO\u001b[0m: cost_calculator.py:622 - selected model name for cost calculation: voyage/voyage-3\n",
      "2025-04-08 09:51:18 - LiteLLM - INFO - cost_calculator.py:622 - completion_cost() - selected model name for cost calculation: voyage/voyage-3\n",
      "\u001b[92m09:51:22 - LiteLLM:INFO\u001b[0m: cost_calculator.py:622 - selected model name for cost calculation: voyage/voyage-3\n",
      "2025-04-08 09:51:22 - LiteLLM - INFO - cost_calculator.py:622 - completion_cost() - selected model name for cost calculation: voyage/voyage-3\n",
      "\u001b[92m09:51:26 - LiteLLM:INFO\u001b[0m: cost_calculator.py:622 - selected model name for cost calculation: voyage/voyage-3\n",
      "2025-04-08 09:51:26 - LiteLLM - INFO - cost_calculator.py:622 - completion_cost() - selected model name for cost calculation: voyage/voyage-3\n",
      "\u001b[92m09:51:29 - LiteLLM:INFO\u001b[0m: cost_calculator.py:622 - selected model name for cost calculation: voyage/voyage-3\n",
      "2025-04-08 09:51:29 - LiteLLM - INFO - cost_calculator.py:622 - completion_cost() - selected model name for cost calculation: voyage/voyage-3\n"
     ]
    }
   ],
   "source": [
    "result = encoder(\n",
    "    [\n",
    "        \"I'm interested in learning about llama 2\",\n",
    "        \"Don't you love politics?\",\n",
    "        \"How's the weather today?\",\n",
    "        \"I love the politics\",\n",
    "    ]\n",
    ")"
   ]
  },
  {
   "cell_type": "markdown",
   "metadata": {},
   "source": [
    "We can check the dimensionality of our vectors by looking at the `index` attribute of the `RouteLayer`."
   ]
  },
  {
   "cell_type": "code",
   "execution_count": 6,
   "metadata": {},
   "outputs": [
    {
     "data": {
      "text/plain": [
       "1024"
      ]
     },
     "execution_count": 6,
     "metadata": {},
     "output_type": "execute_result"
    }
   ],
   "source": [
    "rl.index.dimensions"
   ]
  },
  {
   "cell_type": "markdown",
   "metadata": {},
   "source": [
    "We do have 256-dimensional vectors. Now let's test them:"
   ]
  },
  {
   "cell_type": "code",
   "execution_count": 7,
   "metadata": {},
   "outputs": [
    {
     "name": "stderr",
     "output_type": "stream",
     "text": [
      "2025-04-08 09:51:22 - httpx - INFO - _client.py:1013 - _send_single_request() - HTTP Request: POST https://api.voyageai.com/v1/embeddings \"HTTP/1.1 200 OK\"\n",
      "\u001b[92m09:51:22 - LiteLLM:INFO\u001b[0m: utils.py:1177 - Wrapper: Completed Call, calling success_handler\n",
      "2025-04-08 09:51:22 - LiteLLM - INFO - utils.py:1177 - wrapper() - Wrapper: Completed Call, calling success_handler\n",
      "\u001b[92m09:51:22 - LiteLLM:INFO\u001b[0m: cost_calculator.py:622 - selected model name for cost calculation: voyage/voyage-3\n",
      "2025-04-08 09:51:22 - LiteLLM - INFO - cost_calculator.py:622 - completion_cost() - selected model name for cost calculation: voyage/voyage-3\n"
     ]
    },
    {
     "data": {
      "text/plain": [
       "RouteChoice(name='politics', function_call=None, similarity_score=None)"
      ]
     },
     "execution_count": 7,
     "metadata": {},
     "output_type": "execute_result"
    }
   ],
   "source": [
    "rl(\"don't you love politics?\")"
   ]
  },
  {
   "cell_type": "code",
   "execution_count": 8,
   "metadata": {},
   "outputs": [
    {
     "name": "stderr",
     "output_type": "stream",
     "text": [
      "2025-04-08 09:51:26 - httpx - INFO - _client.py:1013 - _send_single_request() - HTTP Request: POST https://api.voyageai.com/v1/embeddings \"HTTP/1.1 200 OK\"\n",
      "\u001b[92m09:51:26 - LiteLLM:INFO\u001b[0m: utils.py:1177 - Wrapper: Completed Call, calling success_handler\n",
      "2025-04-08 09:51:26 - LiteLLM - INFO - utils.py:1177 - wrapper() - Wrapper: Completed Call, calling success_handler\n",
      "\u001b[92m09:51:26 - LiteLLM:INFO\u001b[0m: cost_calculator.py:622 - selected model name for cost calculation: voyage/voyage-3\n",
      "2025-04-08 09:51:26 - LiteLLM - INFO - cost_calculator.py:622 - completion_cost() - selected model name for cost calculation: voyage/voyage-3\n"
     ]
    },
    {
     "data": {
      "text/plain": [
       "RouteChoice(name='chitchat', function_call=None, similarity_score=None)"
      ]
     },
     "execution_count": 8,
     "metadata": {},
     "output_type": "execute_result"
    }
   ],
   "source": [
    "rl(\"how's the weather today?\")"
   ]
  },
  {
   "cell_type": "markdown",
   "metadata": {},
   "source": [
    "Both are classified accurately, what if we send a query that is unrelated to our existing `Route` objects?"
   ]
  },
  {
   "cell_type": "code",
   "execution_count": 9,
   "metadata": {},
   "outputs": [
    {
     "name": "stderr",
     "output_type": "stream",
     "text": [
      "2025-04-08 09:51:29 - httpx - INFO - _client.py:1013 - _send_single_request() - HTTP Request: POST https://api.voyageai.com/v1/embeddings \"HTTP/1.1 200 OK\"\n",
      "\u001b[92m09:51:29 - LiteLLM:INFO\u001b[0m: utils.py:1177 - Wrapper: Completed Call, calling success_handler\n",
      "2025-04-08 09:51:29 - LiteLLM - INFO - utils.py:1177 - wrapper() - Wrapper: Completed Call, calling success_handler\n",
      "\u001b[92m09:51:29 - LiteLLM:INFO\u001b[0m: cost_calculator.py:622 - selected model name for cost calculation: voyage/voyage-3\n",
      "2025-04-08 09:51:29 - LiteLLM - INFO - cost_calculator.py:622 - completion_cost() - selected model name for cost calculation: voyage/voyage-3\n"
     ]
    },
    {
     "data": {
      "text/plain": [
       "RouteChoice(name=None, function_call=None, similarity_score=None)"
      ]
     },
     "execution_count": 9,
     "metadata": {},
     "output_type": "execute_result"
    }
   ],
   "source": [
    "rl(\"I'm interested in learning about llama 2\")"
   ]
  },
  {
   "cell_type": "markdown",
   "metadata": {},
   "source": [
    "In this case, we return `None` because no matches were identified. We always recommend optimizing your `RouteLayer` for optimal performance, you can see how in [this notebook](https://github.com/aurelio-labs/semantic-router/blob/main/docs/06-threshold-optimization.ipynb)."
   ]
  },
  {
   "cell_type": "markdown",
   "metadata": {},
   "source": [
    "---"
   ]
  }
 ],
 "metadata": {
  "kernelspec": {
   "display_name": ".venv",
   "language": "python",
   "name": "python3"
  },
  "language_info": {
   "codemirror_mode": {
    "name": "ipython",
    "version": 3
   },
   "file_extension": ".py",
   "mimetype": "text/x-python",
   "name": "python",
   "nbconvert_exporter": "python",
   "pygments_lexer": "ipython3",
   "version": "3.13.2"
  }
 },
 "nbformat": 4,
 "nbformat_minor": 2
}
